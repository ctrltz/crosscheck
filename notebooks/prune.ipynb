{
 "cells": [
  {
   "cell_type": "code",
   "execution_count": 1,
   "metadata": {},
   "outputs": [],
   "source": [
    "import networkx as nx\n",
    "import pandas as pd\n",
    "\n",
    "from crosscheck.retrieve import DataRetriever, AUTH_HEADER"
   ]
  },
  {
   "cell_type": "code",
   "execution_count": 2,
   "metadata": {},
   "outputs": [],
   "source": [
    "query = 'unilateral spatial neglect'\n",
    "limit = 100"
   ]
  },
  {
   "cell_type": "code",
   "execution_count": 3,
   "metadata": {},
   "outputs": [],
   "source": [
    "query_processed = query.replace(' ', '+')"
   ]
  },
  {
   "cell_type": "code",
   "execution_count": 12,
   "metadata": {},
   "outputs": [],
   "source": [
    "search_url = f'https://api.semanticscholar.org/graph/v1/paper/search?query={query_processed}&limit={limit}&fields=paperId,referenceCount'\n"
   ]
  },
  {
   "cell_type": "code",
   "execution_count": 13,
   "metadata": {},
   "outputs": [],
   "source": [
    "response = DataRetriever._get(search_url)"
   ]
  },
  {
   "cell_type": "code",
   "execution_count": 6,
   "metadata": {},
   "outputs": [],
   "source": [
    "def build_reference_graph(paper_ids):\n",
    "    nodes = set()\n",
    "    edges = set()\n",
    "    ref_nodes = set()\n",
    "\n",
    "    for paper_id in paper_ids:\n",
    "        references_url = f'https://api.semanticscholar.org/graph/v1/paper/{paper_id}/references?fields=paperId,citationCount'\n",
    "        ref_response = DataRetriever._get(references_url)\n",
    "        if ref_response.status_code != 200:\n",
    "            print(ref_response.status_code)\n",
    "        references = [p['citedPaper']['paperId'] for p in ref_response.json()['data']]\n",
    "\n",
    "        nodes.add(paper_id)\n",
    "        for ref_id in references:\n",
    "            if ref_id is None:\n",
    "                continue\n",
    "            nodes.add(ref_id)\n",
    "            ref_nodes.add(ref_id)\n",
    "            edges.add((ref_id, paper_id))\n",
    "\n",
    "    graph = nx.DiGraph()\n",
    "    graph.add_nodes_from(nodes)\n",
    "    graph.add_edges_from(edges)\n",
    "    return graph, ref_nodes"
   ]
  },
  {
   "cell_type": "code",
   "execution_count": 15,
   "metadata": {},
   "outputs": [
    {
     "ename": "KeyError",
     "evalue": "'data'",
     "output_type": "error",
     "traceback": [
      "\u001b[0;31m---------------------------------------------------------------------------\u001b[0m",
      "\u001b[0;31mKeyError\u001b[0m                                  Traceback (most recent call last)",
      "Cell \u001b[0;32mIn[15], line 1\u001b[0m\n\u001b[0;32m----> 1\u001b[0m paper_ids \u001b[39m=\u001b[39m [p[\u001b[39m'\u001b[39m\u001b[39mpaperId\u001b[39m\u001b[39m'\u001b[39m] \u001b[39mfor\u001b[39;00m p \u001b[39min\u001b[39;00m response\u001b[39m.\u001b[39;49mjson()[\u001b[39m'\u001b[39;49m\u001b[39mdata\u001b[39;49m\u001b[39m'\u001b[39;49m]]\n",
      "\u001b[0;31mKeyError\u001b[0m: 'data'"
     ]
    }
   ],
   "source": [
    "paper_ids = [p['paperId'] for p in response.json()['data']]"
   ]
  },
  {
   "cell_type": "code",
   "execution_count": 16,
   "metadata": {},
   "outputs": [
    {
     "ename": "NameError",
     "evalue": "name 'paper_ids' is not defined",
     "output_type": "error",
     "traceback": [
      "\u001b[0;31m---------------------------------------------------------------------------\u001b[0m",
      "\u001b[0;31mNameError\u001b[0m                                 Traceback (most recent call last)",
      "Cell \u001b[0;32mIn[16], line 1\u001b[0m\n\u001b[0;32m----> 1\u001b[0m graph, ref_nodes \u001b[39m=\u001b[39m build_reference_graph(paper_ids)\n",
      "\u001b[0;31mNameError\u001b[0m: name 'paper_ids' is not defined"
     ]
    }
   ],
   "source": [
    "graph, ref_nodes = build_reference_graph(paper_ids)"
   ]
  },
  {
   "cell_type": "code",
   "execution_count": 150,
   "metadata": {},
   "outputs": [
    {
     "data": {
      "text/plain": [
       "2658"
      ]
     },
     "execution_count": 150,
     "metadata": {},
     "output_type": "execute_result"
    }
   ],
   "source": [
    "graph.number_of_edges()"
   ]
  },
  {
   "cell_type": "code",
   "execution_count": 151,
   "metadata": {},
   "outputs": [
    {
     "data": {
      "text/html": [
       "<div>\n",
       "<style scoped>\n",
       "    .dataframe tbody tr th:only-of-type {\n",
       "        vertical-align: middle;\n",
       "    }\n",
       "\n",
       "    .dataframe tbody tr th {\n",
       "        vertical-align: top;\n",
       "    }\n",
       "\n",
       "    .dataframe thead th {\n",
       "        text-align: right;\n",
       "    }\n",
       "</style>\n",
       "<table border=\"1\" class=\"dataframe\">\n",
       "  <thead>\n",
       "    <tr style=\"text-align: right;\">\n",
       "      <th></th>\n",
       "      <th>paperId</th>\n",
       "      <th>localCites</th>\n",
       "    </tr>\n",
       "  </thead>\n",
       "  <tbody>\n",
       "    <tr>\n",
       "      <th>1922</th>\n",
       "      <td>a6d8165549ce808dbef4275e535b9a7faa3ea927</td>\n",
       "      <td>16</td>\n",
       "    </tr>\n",
       "    <tr>\n",
       "      <th>1565</th>\n",
       "      <td>57ee1c4e5991bf22f69c2e8ac6ecff2ea21c88e2</td>\n",
       "      <td>10</td>\n",
       "    </tr>\n",
       "    <tr>\n",
       "      <th>1021</th>\n",
       "      <td>ae8bcdca8f5a65f82c94a904a9148b62b7364144</td>\n",
       "      <td>8</td>\n",
       "    </tr>\n",
       "    <tr>\n",
       "      <th>744</th>\n",
       "      <td>6d15cf8fdae8123533349ea002989ff635b9e9ea</td>\n",
       "      <td>7</td>\n",
       "    </tr>\n",
       "    <tr>\n",
       "      <th>282</th>\n",
       "      <td>75c2f465d59739dbc06b70fd34dc3c1b2336103e</td>\n",
       "      <td>7</td>\n",
       "    </tr>\n",
       "    <tr>\n",
       "      <th>...</th>\n",
       "      <td>...</td>\n",
       "      <td>...</td>\n",
       "    </tr>\n",
       "    <tr>\n",
       "      <th>8</th>\n",
       "      <td>90a32eb8fe61bd619b320eb7726de977a7af20d9</td>\n",
       "      <td>1</td>\n",
       "    </tr>\n",
       "    <tr>\n",
       "      <th>7</th>\n",
       "      <td>82b826f8ac079b1f6a3e6ca089125d653e7b04f9</td>\n",
       "      <td>1</td>\n",
       "    </tr>\n",
       "    <tr>\n",
       "      <th>6</th>\n",
       "      <td>efde8b637e17fed959b3a7251076b33404798cf7</td>\n",
       "      <td>1</td>\n",
       "    </tr>\n",
       "    <tr>\n",
       "      <th>5</th>\n",
       "      <td>d3109cfcc2af3e79391ff4a025309fa26e6bf87d</td>\n",
       "      <td>1</td>\n",
       "    </tr>\n",
       "    <tr>\n",
       "      <th>4</th>\n",
       "      <td>c0b7fa1c5fe6a76971d0ed50748198fa490c4174</td>\n",
       "      <td>1</td>\n",
       "    </tr>\n",
       "  </tbody>\n",
       "</table>\n",
       "<p>2171 rows × 2 columns</p>\n",
       "</div>"
      ],
      "text/plain": [
       "                                       paperId  localCites\n",
       "1922  a6d8165549ce808dbef4275e535b9a7faa3ea927          16\n",
       "1565  57ee1c4e5991bf22f69c2e8ac6ecff2ea21c88e2          10\n",
       "1021  ae8bcdca8f5a65f82c94a904a9148b62b7364144           8\n",
       "744   6d15cf8fdae8123533349ea002989ff635b9e9ea           7\n",
       "282   75c2f465d59739dbc06b70fd34dc3c1b2336103e           7\n",
       "...                                        ...         ...\n",
       "8     90a32eb8fe61bd619b320eb7726de977a7af20d9           1\n",
       "7     82b826f8ac079b1f6a3e6ca089125d653e7b04f9           1\n",
       "6     efde8b637e17fed959b3a7251076b33404798cf7           1\n",
       "5     d3109cfcc2af3e79391ff4a025309fa26e6bf87d           1\n",
       "4     c0b7fa1c5fe6a76971d0ed50748198fa490c4174           1\n",
       "\n",
       "[2171 rows x 2 columns]"
      ]
     },
     "execution_count": 151,
     "metadata": {},
     "output_type": "execute_result"
    }
   ],
   "source": [
    "prune_df = pd.DataFrame(graph.out_degree(ref_nodes), \n",
    "                        columns=['paperId', 'localCites'])\\\n",
    "             .sort_values(by='localCites', ascending=False)\n",
    "prune_df"
   ]
  },
  {
   "cell_type": "code",
   "execution_count": null,
   "metadata": {},
   "outputs": [],
   "source": []
  }
 ],
 "metadata": {
  "kernelspec": {
   "display_name": "crosscheck",
   "language": "python",
   "name": "python3"
  },
  "language_info": {
   "codemirror_mode": {
    "name": "ipython",
    "version": 3
   },
   "file_extension": ".py",
   "mimetype": "text/x-python",
   "name": "python",
   "nbconvert_exporter": "python",
   "pygments_lexer": "ipython3",
   "version": "3.12.4"
  },
  "orig_nbformat": 4
 },
 "nbformat": 4,
 "nbformat_minor": 2
}
