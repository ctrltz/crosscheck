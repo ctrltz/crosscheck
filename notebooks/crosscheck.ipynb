{
 "cells": [
  {
   "cell_type": "code",
   "execution_count": null,
   "metadata": {},
   "outputs": [],
   "source": [
    "from crosscheck.crosscheck import crosscheck"
   ]
  },
  {
   "cell_type": "code",
   "execution_count": null,
   "metadata": {},
   "outputs": [],
   "source": [
    "groups = [\n",
    "    [\n",
    "        'https://doi.org/10.3389/fphys.2012.00450'\n",
    "    ],\n",
    "    [\n",
    "        'https://doi.org/10.1016/j.jneumeth.2007.03.024'\n",
    "    ]\n",
    "]"
   ]
  },
  {
   "cell_type": "code",
   "execution_count": null,
   "metadata": {},
   "outputs": [],
   "source": [
    "results, seed = crosscheck(groups)"
   ]
  },
  {
   "cell_type": "code",
   "execution_count": null,
   "id": "a03c76b2",
   "metadata": {},
   "outputs": [],
   "source": [
    "print(f'Found {len(results)} papers:')\n",
    "\n",
    "for paper_id in results:\n",
    "    print(f'https://semanticscholar.org/paper/{paper_id}')"
   ]
  },
  {
   "cell_type": "code",
   "execution_count": null,
   "id": "aae73aa7",
   "metadata": {},
   "outputs": [],
   "source": [
    "for i, group in enumerate(seed):\n",
    "    print(f'Seed papers - Group {i+1}:')\n",
    "    for paper_id in group:\n",
    "        print(f'https://semanticscholar.org/paper/{paper_id}')"
   ]
  },
  {
   "cell_type": "code",
   "execution_count": null,
   "id": "23d34b3b",
   "metadata": {},
   "outputs": [],
   "source": []
  }
 ],
 "metadata": {
  "interpreter": {
   "hash": "f9f85f796d01129d0dd105a088854619f454435301f6ffec2fea96ecbd9be4ac"
  },
  "kernelspec": {
   "display_name": "Python 3.9.10 64-bit",
   "name": "python3"
  },
  "language_info": {
   "codemirror_mode": {
    "name": "ipython",
    "version": 3
   },
   "file_extension": ".py",
   "mimetype": "text/x-python",
   "name": "python",
   "nbconvert_exporter": "python",
   "pygments_lexer": "ipython3",
   "version": "3.12.4"
  }
 },
 "nbformat": 4,
 "nbformat_minor": 5
}
