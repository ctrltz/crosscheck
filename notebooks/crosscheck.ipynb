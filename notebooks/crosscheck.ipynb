{
 "cells": [
  {
   "cell_type": "code",
   "execution_count": 12,
   "source": [
    "import json\n",
    "import subprocess\n",
    "\n",
    "from collections import defaultdict\n",
    "from sys import getsizeof"
   ],
   "outputs": [],
   "metadata": {}
  },
  {
   "cell_type": "markdown",
   "source": [
    "### New API\n",
    "\n",
    "API key is required"
   ],
   "metadata": {}
  },
  {
   "cell_type": "code",
   "execution_count": 13,
   "source": [
    "RELEASE = 'latest'\n",
    "DATASET = 'citations'\n",
    "API_KEY = 'NpToKVNU472E8fiIPEu6N1KLG1ECGEju6xZe3wgN'"
   ],
   "outputs": [],
   "metadata": {}
  },
  {
   "cell_type": "markdown",
   "source": [
    "## API -> Direct Co-Citations"
   ],
   "metadata": {}
  },
  {
   "cell_type": "code",
   "execution_count": 14,
   "source": [
    "import networkx as nx\n",
    "import pandas as pd\n",
    "import requests"
   ],
   "outputs": [],
   "metadata": {}
  },
  {
   "cell_type": "code",
   "execution_count": 33,
   "source": [
    "PAPER_URL = 'https://api.semanticscholar.org/graph/v1/paper/{0}?fields={1}'\n",
    "PAPER_CITATION_FIELDS = 'citationCount,citations.paperId,citations.citationCount,' + \\\n",
    "    'citations.title,citations.url,citations.authors,citations.journal,citations.year'\n",
    "CITATIONS_URL = 'https://api.semanticscholar.org/graph/v1/paper/{0}/citations?fields={1}&offset={2}&limit={3}'\n",
    "CITATIONS_FIELDS = 'paperId,url,title,citationCount,authors,journal,year'\n",
    "MAX_LIMIT = 1000\n",
    "MAX_TOTAL_COUNT = 10000"
   ],
   "outputs": [],
   "metadata": {}
  },
  {
   "cell_type": "code",
   "execution_count": 84,
   "source": [
    "groups = [\n",
    "    # [\n",
    "    #     '10.1016/j.neuroimage.2011.01.057'\n",
    "    # ],\n",
    "    [\n",
    "        # '10.1038/nn.3101',\n",
    "        '10.1016/j.neuroimage.2012.03.048'\n",
    "    ],\n",
    "    [\n",
    "        # '10.1002/hbm.20346',\n",
    "        # '10.1016/j.clinph.2004.04.029',\n",
    "        # '10.1016/j.neuroimage.2011.11.084',\n",
    "        # '10.1016/j.neuroimage.2011.01.055',\n",
    "        # '10.1002/(SICI)1097-0193(1999)8:4<194::AID-HBM4>3.0.CO;2-C',\n",
    "        '10.1103/PhysRevLett.100.234101',\n",
    "        # '10.1098/rsta.2011.0081'\n",
    "    ]\n",
    "]"
   ],
   "outputs": [],
   "metadata": {}
  },
  {
   "cell_type": "code",
   "execution_count": 17,
   "source": [
    "def get_paper_data(doi, fields):\n",
    "    return requests.get(PAPER_URL.format(doi, fields)).json()"
   ],
   "outputs": [],
   "metadata": {}
  },
  {
   "cell_type": "code",
   "execution_count": 18,
   "source": [
    "def get_citation_data(doi, fields, offset, limit=MAX_LIMIT):\n",
    "    if offset + limit >= MAX_TOTAL_COUNT:\n",
    "        limit = MAX_TOTAL_COUNT - offset - 1\n",
    "    return requests.get(CITATIONS_URL.format(doi, fields, offset, limit)).json()"
   ],
   "outputs": [],
   "metadata": {}
  },
  {
   "cell_type": "code",
   "execution_count": 43,
   "source": [
    "def authors_compact(authors):\n",
    "    if not authors:\n",
    "        return ''\n",
    "    if len(authors) <= 3:\n",
    "        return ', '.join([a['name'] for a in authors])\n",
    "    else:\n",
    "        return f\"{authors[0]['name']} et al.\""
   ],
   "outputs": [],
   "metadata": {}
  },
  {
   "cell_type": "code",
   "execution_count": 52,
   "source": [
    "def journal_compact(journal):\n",
    "    if not journal or 'name' not in journal:\n",
    "        return ''\n",
    "    result = journal['name']\n",
    "    if 'volume' in journal:\n",
    "        result += f\" {journal['volume']}\"\n",
    "    if 'pages' in journal:\n",
    "        result += f\":{journal['pages']}\"\n",
    "    return result"
   ],
   "outputs": [],
   "metadata": {}
  },
  {
   "cell_type": "code",
   "execution_count": 50,
   "source": [
    "def build_graph(groups):\n",
    "    graph = nx.DiGraph()\n",
    "    node_groups = []\n",
    "    for group_papers in groups:\n",
    "        nodes = []\n",
    "        for paper_doi in group_papers:\n",
    "            # Get paper data\n",
    "            paper_data = get_paper_data(paper_doi, PAPER_CITATION_FIELDS)\n",
    "            paper_id = paper_data.get('paperId', None)\n",
    "            if not paper_id:\n",
    "                print(f'Failed to find paper: {paper_doi}')\n",
    "                continue\n",
    "\n",
    "            citations = paper_data.get('citations', [])\n",
    "            num_cit_retrieved = len(citations)\n",
    "            num_cit_total = paper_data['citationCount']\n",
    "            print(paper_doi)\n",
    "            print(f'Retrieved {num_cit_retrieved} / {num_cit_total} citations')\n",
    "            while num_cit_retrieved < num_cit_total:\n",
    "                new_citations = get_citation_data(paper_doi, CITATIONS_FIELDS, num_cit_retrieved)\n",
    "                citations.extend([cit['citingPaper'] for cit in new_citations.get('data', [])])\n",
    "                num_cit_retrieved = new_citations.get('next', None)\n",
    "                if num_cit_retrieved:\n",
    "                    assert len(citations) == num_cit_retrieved, paper_doi\n",
    "                else:\n",
    "                    assert len(citations) == num_cit_total, paper_doi\n",
    "                    num_cit_retrieved = num_cit_total\n",
    "                print(f'Retrieved {num_cit_retrieved} / {num_cit_total} citations')\n",
    "\n",
    "            # Add reversed edges to the graph for BFS\n",
    "            citation_nodes = [(cit['paperId'], \n",
    "                              dict(citationCount=cit['citationCount'],\n",
    "                                   url=cit['url'], title=cit['title'],\n",
    "                                   year=cit.get('year', ''), \n",
    "                                   authors=authors_compact(cit.get('authors', [])),\n",
    "                                   journal=journal_compact(cit.get('journal', {}))))\n",
    "                              for cit in citations\n",
    "                              if cit['paperId']]\n",
    "            citation_edges = [(paper_id, cit['paperId']) \n",
    "                              for cit in citations\n",
    "                              if cit['paperId']]  # skip None?\n",
    "\n",
    "            # Add the node and incoming edges to the graph\n",
    "            nodes.append(paper_id)\n",
    "            graph.add_node(paper_id, citationCount=num_cit_total)            \n",
    "            graph.add_nodes_from(citation_nodes)\n",
    "            graph.add_edges_from(citation_edges)\n",
    "\n",
    "        node_groups.append(nodes)\n",
    "\n",
    "    return graph, node_groups"
   ],
   "outputs": [],
   "metadata": {}
  },
  {
   "cell_type": "code",
   "execution_count": 85,
   "source": [
    "graph, node_groups = build_graph(groups)"
   ],
   "outputs": [
    {
     "output_type": "stream",
     "name": "stdout",
     "text": [
      "10.1016/j.neuroimage.2012.03.048\n",
      "Retrieved 270 / 270 citations\n",
      "10.1103/PhysRevLett.100.234101\n",
      "Retrieved 483 / 483 citations\n"
     ]
    }
   ],
   "metadata": {}
  },
  {
   "cell_type": "code",
   "execution_count": 86,
   "source": [
    "print(graph.number_of_nodes())\n",
    "print(graph.number_of_edges())\n",
    "print(node_groups)"
   ],
   "outputs": [
    {
     "output_type": "stream",
     "name": "stdout",
     "text": [
      "725\n",
      "750\n",
      "[['9298bc29443bdfe48bed12456fabd3e8e7af03ed'], ['d63e6d45be6f44c2078eb7266f8a73a31fb72565']]\n"
     ]
    }
   ],
   "metadata": {}
  },
  {
   "cell_type": "code",
   "execution_count": 87,
   "source": [
    "crosschecked = set(graph.nodes)\n",
    "for group_nodes in node_groups:\n",
    "    reachable = nx.bfs_layers(graph, group_nodes)\n",
    "    print(next(reachable))  # skip group nodes in layer 0\n",
    "    crosschecked &= set(next(reachable))"
   ],
   "outputs": [
    {
     "output_type": "stream",
     "name": "stdout",
     "text": [
      "['9298bc29443bdfe48bed12456fabd3e8e7af03ed']\n",
      "['d63e6d45be6f44c2078eb7266f8a73a31fb72565']\n"
     ]
    }
   ],
   "metadata": {}
  },
  {
   "cell_type": "code",
   "execution_count": 88,
   "source": [
    "len(crosschecked)"
   ],
   "outputs": [
    {
     "output_type": "execute_result",
     "data": {
      "text/plain": [
       "26"
      ]
     },
     "metadata": {},
     "execution_count": 88
    }
   ],
   "metadata": {}
  },
  {
   "cell_type": "code",
   "execution_count": 89,
   "source": [
    "crosschecked_data = [dict(paperId=n[0], **n[1]) for n in graph.nodes(data=True) if n[0] in crosschecked]"
   ],
   "outputs": [],
   "metadata": {}
  },
  {
   "cell_type": "code",
   "execution_count": 90,
   "source": [
    "crosschecked_df = pd.DataFrame(crosschecked_data)"
   ],
   "outputs": [],
   "metadata": {}
  },
  {
   "cell_type": "code",
   "execution_count": 91,
   "source": [
    "crosschecked_df.sort_values(by='citationCount', ascending=False).head(n=20)"
   ],
   "outputs": [
    {
     "output_type": "execute_result",
     "data": {
      "text/html": [
       "<div>\n",
       "<style scoped>\n",
       "    .dataframe tbody tr th:only-of-type {\n",
       "        vertical-align: middle;\n",
       "    }\n",
       "\n",
       "    .dataframe tbody tr th {\n",
       "        vertical-align: top;\n",
       "    }\n",
       "\n",
       "    .dataframe thead th {\n",
       "        text-align: right;\n",
       "    }\n",
       "</style>\n",
       "<table border=\"1\" class=\"dataframe\">\n",
       "  <thead>\n",
       "    <tr style=\"text-align: right;\">\n",
       "      <th></th>\n",
       "      <th>paperId</th>\n",
       "      <th>citationCount</th>\n",
       "      <th>url</th>\n",
       "      <th>title</th>\n",
       "      <th>year</th>\n",
       "      <th>authors</th>\n",
       "      <th>journal</th>\n",
       "    </tr>\n",
       "  </thead>\n",
       "  <tbody>\n",
       "    <tr>\n",
       "      <th>20</th>\n",
       "      <td>fa26a5432c5cd27f6c7469d61496301db6adae42</td>\n",
       "      <td>280</td>\n",
       "      <td>https://www.semanticscholar.org/paper/fa26a543...</td>\n",
       "      <td>Opportunities and methodological challenges in...</td>\n",
       "      <td></td>\n",
       "      <td></td>\n",
       "      <td></td>\n",
       "    </tr>\n",
       "    <tr>\n",
       "      <th>16</th>\n",
       "      <td>792fec9ba1be6b80dec5bd78c0f954583621856d</td>\n",
       "      <td>277</td>\n",
       "      <td>https://www.semanticscholar.org/paper/792fec9b...</td>\n",
       "      <td>How reliable are MEG resting-state connectivit...</td>\n",
       "      <td></td>\n",
       "      <td></td>\n",
       "      <td></td>\n",
       "    </tr>\n",
       "    <tr>\n",
       "      <th>13</th>\n",
       "      <td>967792df32a9abc2f83971c0a43d821b29944f27</td>\n",
       "      <td>146</td>\n",
       "      <td>https://www.semanticscholar.org/paper/967792df...</td>\n",
       "      <td>Consistency of EEG source localization and con...</td>\n",
       "      <td></td>\n",
       "      <td></td>\n",
       "      <td></td>\n",
       "    </tr>\n",
       "    <tr>\n",
       "      <th>12</th>\n",
       "      <td>057cc18f57cd9ebebf866791d8600538ff7e1961</td>\n",
       "      <td>131</td>\n",
       "      <td>https://www.semanticscholar.org/paper/057cc18f...</td>\n",
       "      <td>Dynamics of large-scale electrophysiological n...</td>\n",
       "      <td></td>\n",
       "      <td></td>\n",
       "      <td></td>\n",
       "    </tr>\n",
       "    <tr>\n",
       "      <th>19</th>\n",
       "      <td>10cb59e29c26dabd9e24edf09d367bedb65f884a</td>\n",
       "      <td>88</td>\n",
       "      <td>https://www.semanticscholar.org/paper/10cb59e2...</td>\n",
       "      <td>Measuring electrophysiological connectivity by...</td>\n",
       "      <td></td>\n",
       "      <td></td>\n",
       "      <td></td>\n",
       "    </tr>\n",
       "    <tr>\n",
       "      <th>10</th>\n",
       "      <td>c912e7d61fb7345934b15e256bfe47226dce7837</td>\n",
       "      <td>85</td>\n",
       "      <td>https://www.semanticscholar.org/paper/c912e7d6...</td>\n",
       "      <td>IFCN-endorsed practical guidelines for clinica...</td>\n",
       "      <td></td>\n",
       "      <td></td>\n",
       "      <td></td>\n",
       "    </tr>\n",
       "    <tr>\n",
       "      <th>24</th>\n",
       "      <td>e2c4a75f1f4b7d0f84c172f9702841b7e6d805b9</td>\n",
       "      <td>75</td>\n",
       "      <td>https://www.semanticscholar.org/paper/e2c4a75f...</td>\n",
       "      <td>Cognitive and Clinical Dysfunction, Altered ME...</td>\n",
       "      <td></td>\n",
       "      <td></td>\n",
       "      <td></td>\n",
       "    </tr>\n",
       "    <tr>\n",
       "      <th>21</th>\n",
       "      <td>39fa92f61b329e15c6efe0c06891b8ded408512e</td>\n",
       "      <td>73</td>\n",
       "      <td>https://www.semanticscholar.org/paper/39fa92f6...</td>\n",
       "      <td>Dynamic recruitment of resting state sub-networks</td>\n",
       "      <td></td>\n",
       "      <td></td>\n",
       "      <td></td>\n",
       "    </tr>\n",
       "    <tr>\n",
       "      <th>25</th>\n",
       "      <td>5d1c6e9052f8cd4f50847bb456236b80c3f9c852</td>\n",
       "      <td>61</td>\n",
       "      <td>https://www.semanticscholar.org/paper/5d1c6e90...</td>\n",
       "      <td>Task induced modulation of neural oscillations...</td>\n",
       "      <td></td>\n",
       "      <td></td>\n",
       "      <td></td>\n",
       "    </tr>\n",
       "    <tr>\n",
       "      <th>23</th>\n",
       "      <td>888e053190387c77e42a73191911e3c9cfce5886</td>\n",
       "      <td>49</td>\n",
       "      <td>https://www.semanticscholar.org/paper/888e0531...</td>\n",
       "      <td>Third order spectral analysis robust to mixing...</td>\n",
       "      <td></td>\n",
       "      <td></td>\n",
       "      <td></td>\n",
       "    </tr>\n",
       "    <tr>\n",
       "      <th>11</th>\n",
       "      <td>e8252e8db75682d66ae568ccceda61d705bbc53a</td>\n",
       "      <td>19</td>\n",
       "      <td>https://www.semanticscholar.org/paper/e8252e8d...</td>\n",
       "      <td>Disclosing large-scale directed functional con...</td>\n",
       "      <td></td>\n",
       "      <td></td>\n",
       "      <td></td>\n",
       "    </tr>\n",
       "    <tr>\n",
       "      <th>5</th>\n",
       "      <td>fb5ff699098b78523d7408f8ee6c02a19a86c433</td>\n",
       "      <td>15</td>\n",
       "      <td>https://www.semanticscholar.org/paper/fb5ff699...</td>\n",
       "      <td>The impact of improved MEG–MRI co-registration...</td>\n",
       "      <td></td>\n",
       "      <td></td>\n",
       "      <td></td>\n",
       "    </tr>\n",
       "    <tr>\n",
       "      <th>6</th>\n",
       "      <td>1a00cd51872c25486ed36e27443443d52edee8e6</td>\n",
       "      <td>13</td>\n",
       "      <td>https://www.semanticscholar.org/paper/1a00cd51...</td>\n",
       "      <td>Mathematical Relations Between Measures of Bra...</td>\n",
       "      <td></td>\n",
       "      <td></td>\n",
       "      <td></td>\n",
       "    </tr>\n",
       "    <tr>\n",
       "      <th>8</th>\n",
       "      <td>78493ebf8fd7045430c5189e70d58ffec908cf4e</td>\n",
       "      <td>9</td>\n",
       "      <td>https://www.semanticscholar.org/paper/78493ebf...</td>\n",
       "      <td>An Introduction to MEG Connectivity Measurements</td>\n",
       "      <td></td>\n",
       "      <td></td>\n",
       "      <td></td>\n",
       "    </tr>\n",
       "    <tr>\n",
       "      <th>2</th>\n",
       "      <td>4e854d7cb799ee3db573e12fa7f2fe41c9860b9a</td>\n",
       "      <td>8</td>\n",
       "      <td>https://www.semanticscholar.org/paper/4e854d7c...</td>\n",
       "      <td>Electroencephalography resting‐state networks ...</td>\n",
       "      <td></td>\n",
       "      <td></td>\n",
       "      <td></td>\n",
       "    </tr>\n",
       "    <tr>\n",
       "      <th>3</th>\n",
       "      <td>5304a91aa7fe6a2f5c6daefe3df42398a836ef61</td>\n",
       "      <td>5</td>\n",
       "      <td>https://www.semanticscholar.org/paper/5304a91a...</td>\n",
       "      <td>Benchmarking metrics for inferring functional ...</td>\n",
       "      <td></td>\n",
       "      <td></td>\n",
       "      <td></td>\n",
       "    </tr>\n",
       "    <tr>\n",
       "      <th>4</th>\n",
       "      <td>c76996ff3619da1c70b96da37f45e4872e330cd5</td>\n",
       "      <td>4</td>\n",
       "      <td>https://www.semanticscholar.org/paper/c76996ff...</td>\n",
       "      <td>Recent Developments in MEG Network Analysis</td>\n",
       "      <td></td>\n",
       "      <td></td>\n",
       "      <td></td>\n",
       "    </tr>\n",
       "    <tr>\n",
       "      <th>9</th>\n",
       "      <td>2bf2e6f4099dfccfb361a98f327ce69decd25509</td>\n",
       "      <td>1</td>\n",
       "      <td>https://www.semanticscholar.org/paper/2bf2e6f4...</td>\n",
       "      <td>Methods to Estimate Functional and Effective B...</td>\n",
       "      <td></td>\n",
       "      <td></td>\n",
       "      <td></td>\n",
       "    </tr>\n",
       "    <tr>\n",
       "      <th>22</th>\n",
       "      <td>9dd9fbff17518c36ab14b8826aa8b82f3e7cd0d4</td>\n",
       "      <td>1</td>\n",
       "      <td>https://www.semanticscholar.org/paper/9dd9fbff...</td>\n",
       "      <td>Functional brain networks in multiple slerosis...</td>\n",
       "      <td></td>\n",
       "      <td></td>\n",
       "      <td></td>\n",
       "    </tr>\n",
       "    <tr>\n",
       "      <th>17</th>\n",
       "      <td>61b9d40148b7225e9dd215f14e9d827347016e7c</td>\n",
       "      <td>0</td>\n",
       "      <td>https://www.semanticscholar.org/paper/61b9d401...</td>\n",
       "      <td>Dynamic electrophysiological connectomics</td>\n",
       "      <td></td>\n",
       "      <td></td>\n",
       "      <td></td>\n",
       "    </tr>\n",
       "  </tbody>\n",
       "</table>\n",
       "</div>"
      ],
      "text/plain": [
       "                                     paperId  citationCount  \\\n",
       "20  fa26a5432c5cd27f6c7469d61496301db6adae42            280   \n",
       "16  792fec9ba1be6b80dec5bd78c0f954583621856d            277   \n",
       "13  967792df32a9abc2f83971c0a43d821b29944f27            146   \n",
       "12  057cc18f57cd9ebebf866791d8600538ff7e1961            131   \n",
       "19  10cb59e29c26dabd9e24edf09d367bedb65f884a             88   \n",
       "10  c912e7d61fb7345934b15e256bfe47226dce7837             85   \n",
       "24  e2c4a75f1f4b7d0f84c172f9702841b7e6d805b9             75   \n",
       "21  39fa92f61b329e15c6efe0c06891b8ded408512e             73   \n",
       "25  5d1c6e9052f8cd4f50847bb456236b80c3f9c852             61   \n",
       "23  888e053190387c77e42a73191911e3c9cfce5886             49   \n",
       "11  e8252e8db75682d66ae568ccceda61d705bbc53a             19   \n",
       "5   fb5ff699098b78523d7408f8ee6c02a19a86c433             15   \n",
       "6   1a00cd51872c25486ed36e27443443d52edee8e6             13   \n",
       "8   78493ebf8fd7045430c5189e70d58ffec908cf4e              9   \n",
       "2   4e854d7cb799ee3db573e12fa7f2fe41c9860b9a              8   \n",
       "3   5304a91aa7fe6a2f5c6daefe3df42398a836ef61              5   \n",
       "4   c76996ff3619da1c70b96da37f45e4872e330cd5              4   \n",
       "9   2bf2e6f4099dfccfb361a98f327ce69decd25509              1   \n",
       "22  9dd9fbff17518c36ab14b8826aa8b82f3e7cd0d4              1   \n",
       "17  61b9d40148b7225e9dd215f14e9d827347016e7c              0   \n",
       "\n",
       "                                                  url  \\\n",
       "20  https://www.semanticscholar.org/paper/fa26a543...   \n",
       "16  https://www.semanticscholar.org/paper/792fec9b...   \n",
       "13  https://www.semanticscholar.org/paper/967792df...   \n",
       "12  https://www.semanticscholar.org/paper/057cc18f...   \n",
       "19  https://www.semanticscholar.org/paper/10cb59e2...   \n",
       "10  https://www.semanticscholar.org/paper/c912e7d6...   \n",
       "24  https://www.semanticscholar.org/paper/e2c4a75f...   \n",
       "21  https://www.semanticscholar.org/paper/39fa92f6...   \n",
       "25  https://www.semanticscholar.org/paper/5d1c6e90...   \n",
       "23  https://www.semanticscholar.org/paper/888e0531...   \n",
       "11  https://www.semanticscholar.org/paper/e8252e8d...   \n",
       "5   https://www.semanticscholar.org/paper/fb5ff699...   \n",
       "6   https://www.semanticscholar.org/paper/1a00cd51...   \n",
       "8   https://www.semanticscholar.org/paper/78493ebf...   \n",
       "2   https://www.semanticscholar.org/paper/4e854d7c...   \n",
       "3   https://www.semanticscholar.org/paper/5304a91a...   \n",
       "4   https://www.semanticscholar.org/paper/c76996ff...   \n",
       "9   https://www.semanticscholar.org/paper/2bf2e6f4...   \n",
       "22  https://www.semanticscholar.org/paper/9dd9fbff...   \n",
       "17  https://www.semanticscholar.org/paper/61b9d401...   \n",
       "\n",
       "                                                title year authors journal  \n",
       "20  Opportunities and methodological challenges in...                       \n",
       "16  How reliable are MEG resting-state connectivit...                       \n",
       "13  Consistency of EEG source localization and con...                       \n",
       "12  Dynamics of large-scale electrophysiological n...                       \n",
       "19  Measuring electrophysiological connectivity by...                       \n",
       "10  IFCN-endorsed practical guidelines for clinica...                       \n",
       "24  Cognitive and Clinical Dysfunction, Altered ME...                       \n",
       "21  Dynamic recruitment of resting state sub-networks                       \n",
       "25  Task induced modulation of neural oscillations...                       \n",
       "23  Third order spectral analysis robust to mixing...                       \n",
       "11  Disclosing large-scale directed functional con...                       \n",
       "5   The impact of improved MEG–MRI co-registration...                       \n",
       "6   Mathematical Relations Between Measures of Bra...                       \n",
       "8    An Introduction to MEG Connectivity Measurements                       \n",
       "2   Electroencephalography resting‐state networks ...                       \n",
       "3   Benchmarking metrics for inferring functional ...                       \n",
       "4         Recent Developments in MEG Network Analysis                       \n",
       "9   Methods to Estimate Functional and Effective B...                       \n",
       "22  Functional brain networks in multiple slerosis...                       \n",
       "17          Dynamic electrophysiological connectomics                       "
      ]
     },
     "metadata": {},
     "execution_count": 91
    }
   ],
   "metadata": {}
  },
  {
   "cell_type": "markdown",
   "source": [
    "### Old Way"
   ],
   "metadata": {}
  },
  {
   "cell_type": "code",
   "execution_count": 76,
   "source": [
    "DOWNLOAD_URL = 'https://s3-us-west-2.amazonaws.com/ai2-s2-research-public/open-corpus/2022-05-01/s2-corpus-{0:03d}.gz'\n",
    "FILE_NAME_GZ = 's2-corpus-{0:03d}.gz'\n",
    "FILE_NAME = 's2-corpus-{0:03d}'"
   ],
   "outputs": [],
   "metadata": {}
  },
  {
   "cell_type": "code",
   "execution_count": 79,
   "source": [
    "def to_numeric(sha1_id):\n",
    "    if sha1_id not in paper_ids:\n",
    "        new_id = len(paper_ids)\n",
    "        paper_ids[sha1_id] = new_id\n",
    "        paper_index[new_id] = sha1_id\n",
    "    return paper_ids[sha1_id]"
   ],
   "outputs": [],
   "metadata": {}
  },
  {
   "cell_type": "code",
   "execution_count": 83,
   "source": [
    "def update_citations(corpus_id):\n",
    "    p = subprocess.Popen(['wget', DOWNLOAD_URL.format(corpus_id)], \n",
    "                         stdout=subprocess.DEVNULL, stderr=subprocess.STDOUT)\n",
    "    p.communicate()\n",
    "    p.wait()\n",
    "    \n",
    "    p = subprocess.Popen(['gzip', '-d', FILE_NAME_GZ.format(corpus_id)], \n",
    "                         stdout=subprocess.DEVNULL, stderr=subprocess.STDOUT)\n",
    "    p.communicate()\n",
    "    p.wait()\n",
    "    \n",
    "    filename = FILE_NAME.format(corpus_id)\n",
    "    with open(filename, 'r') as f:\n",
    "        for line in f:\n",
    "            data = json.loads(line)\n",
    "            paper_id = to_numeric(data['id'])\n",
    "            for cit_id in data['inCitations']:\n",
    "                citations[to_numeric(cit_id)].add(paper_id)\n",
    "            citations[paper_id].update(set(to_numeric(cit_id) for cit_id in data['outCitations']))\n",
    "            \n",
    "    p = subprocess.Popen(['rm', filename], \n",
    "                         stdout=subprocess.DEVNULL, stderr=subprocess.STDOUT)\n",
    "    p.communicate()\n",
    "    p.wait()"
   ],
   "outputs": [],
   "metadata": {}
  },
  {
   "cell_type": "code",
   "execution_count": 86,
   "source": [
    "citations = defaultdict(set)\n",
    "paper_ids = {}\n",
    "paper_index = {}\n",
    "\n",
    "print(f'Corpus ID\\tNumPapers\\tSizePapers\\tNumCitations\\tSizeCitations')\n",
    "for corpus_id in range(10):\n",
    "    update_citations(corpus_id)\n",
    "    num_papers = len(paper_index)\n",
    "    size_papers = getsizeof(paper_ids) + getsizeof(paper_index)\n",
    "    num_citations = sum([len(s) for s in citations.values()])\n",
    "    size_citations = getsizeof(citations)\n",
    "    print(f'{corpus_id}\\t{num_papers}\\t{size_papers}\\t{num_citations}\\t{size_citations}')\n",
    "    if size_papers + size_citations > 500_000_000:\n",
    "        print('Alarm!')\n",
    "        break"
   ],
   "outputs": [
    {
     "output_type": "stream",
     "name": "stdout",
     "text": [
      "Corpus ID\tNumPapers\tSizePapers\tNumCitations\tSizeCitations\n",
      "0\t677547\t41943216\t659874\t20971616\n",
      "1\t1356460\t83886272\t1344303\t41943144\n",
      "2\t2007963\t167772336\t2017978\t41943144\n",
      "3\t2632966\t167772336\t2680019\t83886176\n",
      "4\t3250798\t335544512\t3350718\t83886176\n",
      "5\t3860757\t335544512\t4025229\t83886176\n",
      "6\t4443366\t335544512\t4684217\t83886176\n",
      "7\t5015578\t335544512\t5340383\t167772264\n",
      "Alarm!\n"
     ]
    }
   ],
   "metadata": {}
  },
  {
   "cell_type": "code",
   "execution_count": null,
   "source": [],
   "outputs": [],
   "metadata": {}
  }
 ],
 "metadata": {
  "kernelspec": {
   "name": "python3",
   "display_name": "Python 3.9.10 64-bit"
  },
  "language_info": {
   "codemirror_mode": {
    "name": "ipython",
    "version": 3
   },
   "file_extension": ".py",
   "mimetype": "text/x-python",
   "name": "python",
   "nbconvert_exporter": "python",
   "pygments_lexer": "ipython3",
   "version": "3.9.10"
  },
  "interpreter": {
   "hash": "f9f85f796d01129d0dd105a088854619f454435301f6ffec2fea96ecbd9be4ac"
  }
 },
 "nbformat": 4,
 "nbformat_minor": 5
}