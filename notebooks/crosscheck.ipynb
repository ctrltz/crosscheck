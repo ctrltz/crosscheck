{
 "cells": [
  {
   "cell_type": "code",
   "execution_count": 1,
   "metadata": {},
   "outputs": [],
   "source": [
    "from crosscheck.crosscheck import crosscheck"
   ]
  },
  {
   "cell_type": "code",
   "execution_count": 2,
   "metadata": {},
   "outputs": [],
   "source": [
    "groups = [\n",
    "    [\n",
    "        'https://doi.org/10.3389/fphys.2012.00450'\n",
    "    ],\n",
    "    [\n",
    "        'https://doi.org/10.1016/j.jneumeth.2007.03.024'\n",
    "    ]\n",
    "]"
   ]
  },
  {
   "cell_type": "code",
   "execution_count": 4,
   "metadata": {},
   "outputs": [],
   "source": [
    "results, seed = crosscheck(groups)"
   ]
  },
  {
   "cell_type": "code",
   "execution_count": 6,
   "id": "a03c76b2",
   "metadata": {},
   "outputs": [
    {
     "name": "stdout",
     "output_type": "stream",
     "text": [
      "Papers found:\n",
      "https://semanticscholar.org/paper/b3f1500b2874ea55663387358055696f77ff8003\n",
      "https://semanticscholar.org/paper/fe8ba37cfb9c6dbec8c604bcef431cdcb46a4cbc\n",
      "https://semanticscholar.org/paper/02f79baa527f4df4fcc745671ae193eca8601d8b\n",
      "https://semanticscholar.org/paper/05a361b7cbccd1a7704e9fd0d2a09abb059a469c\n",
      "https://semanticscholar.org/paper/1917b2b1e66c3b5004ab27c82f3e5cb359c12fcc\n",
      "https://semanticscholar.org/paper/d8824c03abe6c907187e0e89d71d94c40cfabf42\n",
      "https://semanticscholar.org/paper/ca23405e20c0ca96317eacbc5bd4d277078a36cd\n",
      "https://semanticscholar.org/paper/e6b7570039ba050c098da966a29a84c861c0f416\n",
      "https://semanticscholar.org/paper/5799f76319a3e581e5ce90a8a75693a0bb760e52\n",
      "https://semanticscholar.org/paper/186a73d66075cf2a578943f1a612912188a1a094\n",
      "https://semanticscholar.org/paper/e0027fb6b23ff6e3fef017e5c4240c3aa2b6eed7\n",
      "https://semanticscholar.org/paper/4c590ba12f3b779e363f7306bc90bb3e020609c9\n",
      "https://semanticscholar.org/paper/5594a7a4ec9e054ceddc21ac5c2ec1e6e35b43f9\n",
      "https://semanticscholar.org/paper/6de41efd75fec8dd19f4cc0535d8d50413710e5d\n",
      "https://semanticscholar.org/paper/f6e0ddc15d7e3554a636c91f3b8b9df976ee2299\n",
      "https://semanticscholar.org/paper/c599658056fa360a251df133a12d7e1b696186f0\n",
      "https://semanticscholar.org/paper/54c3c082469cfd02501ae96bd9ca51a75383b4af\n",
      "https://semanticscholar.org/paper/742cd70d43c694d55b8f3afaad89898704ad4463\n",
      "https://semanticscholar.org/paper/0768fb85d3346ca1a1bf965c2b72c91074c45f80\n",
      "https://semanticscholar.org/paper/1165c3cecb12422803d62f91863ae2edfefbcea5\n",
      "https://semanticscholar.org/paper/8b2f9ca8284795e41d829d35e8f4069fbfc36f32\n",
      "https://semanticscholar.org/paper/8a33b278a1d0380bdcb6d36ef36411aac7e4f794\n"
     ]
    }
   ],
   "source": [
    "print('Papers found:')\n",
    "\n",
    "for paper_id in results:\n",
    "    print(f'https://semanticscholar.org/paper/{paper_id}')"
   ]
  },
  {
   "cell_type": "code",
   "execution_count": null,
   "id": "aae73aa7",
   "metadata": {},
   "outputs": [],
   "source": []
  }
 ],
 "metadata": {
  "interpreter": {
   "hash": "f9f85f796d01129d0dd105a088854619f454435301f6ffec2fea96ecbd9be4ac"
  },
  "kernelspec": {
   "display_name": "Python 3.9.10 64-bit",
   "name": "python3"
  },
  "language_info": {
   "codemirror_mode": {
    "name": "ipython",
    "version": 3
   },
   "file_extension": ".py",
   "mimetype": "text/x-python",
   "name": "python",
   "nbconvert_exporter": "python",
   "pygments_lexer": "ipython3",
   "version": "3.12.4"
  }
 },
 "nbformat": 4,
 "nbformat_minor": 5
}
